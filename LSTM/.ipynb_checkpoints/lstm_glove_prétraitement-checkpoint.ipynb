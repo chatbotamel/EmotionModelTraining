{
 "cells": [
  {
   "cell_type": "code",
   "execution_count": 49,
   "metadata": {},
   "outputs": [],
   "source": [
    "import os\n",
    "import sys\n",
    "import re\n",
    "import pickle\n",
    "import numpy as np\n",
    "import pandas as pd\n",
    "\n",
    "from keras.preprocessing.text import Tokenizer\n",
    "from keras.preprocessing.sequence import pad_sequences\n",
    "from keras.utils.np_utils import to_categorical\n",
    "from keras.models import Sequential\n",
    "from keras.layers.recurrent import LSTM\n",
    "from keras.layers.core import Dense, Activation\n",
    "from keras.layers.embeddings import Embedding\n",
    "from sklearn.model_selection import train_test_split"
   ]
  },
  {
   "cell_type": "code",
   "execution_count": 50,
   "metadata": {},
   "outputs": [],
   "source": [
    "np.random.seed(7)"
   ]
  },
  {
   "cell_type": "code",
   "execution_count": 71,
   "metadata": {},
   "outputs": [],
   "source": [
    "DIR_GLOVE = 'C:/Users/amel/Desktop/PFE/glove.840B.300d/'\n",
    "DIR_DATA = 'C:/Users/amel/Desktop/PFE/EmotionModelTraining/DATA/'\n",
    "MAX_SEQUENCE_LENGTH = 100\n",
    "MAX_NB_WORDS = 20000\n",
    "EMBEDDING_DIM = 300\n",
    "TEST_SPLIT = 0.2\n",
    "VALIDATION_SPLIT = 0.1\n",
    "tokenizer = Tokenizer(num_words=MAX_NB_WORDS)"
   ]
  },
  {
   "cell_type": "code",
   "execution_count": 72,
   "metadata": {},
   "outputs": [],
   "source": [
    "def clean_str(string):\n",
    "    string = re.sub(r\"[^A-Za-z0-9(),!?\\'\\`]\", \" \", string)\n",
    "    string = re.sub(r\"\\'s\", \" \\'s\", string)\n",
    "    string = re.sub(r\"\\'ve\", \" \\'ve\", string)\n",
    "    string = re.sub(r\"n\\'t\", \" n\\'t\", string)\n",
    "    string = re.sub(r\"\\'re\", \" \\'re\", string)\n",
    "    string = re.sub(r\"\\'d\", \" \\'d\", string)\n",
    "    string = re.sub(r\"\\'ll\", \" \\'ll\", string)\n",
    "    string = re.sub(r\",\", \" , \", string)\n",
    "    string = re.sub(r\"!\", \" ! \", string)\n",
    "    string = re.sub(r\"\\(\", \" \\( \", string)\n",
    "    string = re.sub(r\"\\)\", \" \\) \", string)\n",
    "    string = re.sub(r\"\\?\", \" \\? \", string)\n",
    "    string = re.sub(r\"\\s{2,}\", \" \", string)\n",
    "    return string.strip().lower()"
   ]
  },
  {
   "cell_type": "code",
   "execution_count": 26,
   "metadata": {},
   "outputs": [],
   "source": [
    "def gloveVec(filename):\n",
    "    embeddings = {}\n",
    "    f = open(os.path.join(DIR_GLOVE, filename), encoding='utf-8')\n",
    "    i = 0\n",
    "    for line in f:\n",
    "        values = line.split()\n",
    "        word = values[0]\n",
    "        try:\n",
    "            coefs = np.asarray(values[1:], dtype='float32')\n",
    "            embeddings[word] = coefs\n",
    "        except ValueError:\n",
    "            i += 1\n",
    "    f.close()\n",
    "    return embeddings\n",
    "embeddings = gloveVec('glove.840B.300d.txt')"
   ]
  },
  {
   "cell_type": "code",
   "execution_count": 73,
   "metadata": {},
   "outputs": [],
   "source": [
    "def loadData(filename):\n",
    "    df = pd.read_csv(DIR_DATA + filename,delimiter=';')\n",
    "    selected = ['label', 'text']\n",
    "    non_selected = list(set(df.columns) - set(selected))\n",
    "    df = df.drop(non_selected, axis=1)\n",
    "    df = df.dropna(axis=0, how='any', subset=selected)\n",
    "    labels = sorted(list(set(df[selected[0]].tolist())))\n",
    "    dict.fromkeys(set(df[selected[0]].tolist()))\n",
    "    label_dict = {}\n",
    "    for i in range(len(labels)):\n",
    "        label_dict[labels[i]] = i\n",
    "\n",
    "    x_train = df[selected[1]].apply(lambda x: clean_str(x)).tolist()\n",
    "    y_train = df[selected[0]].apply(lambda y: label_dict[y]).tolist()\n",
    "    y_train = to_categorical(np.asarray(y_train))\n",
    "    return x_train,y_train"
   ]
  },
  {
   "cell_type": "code",
   "execution_count": 74,
   "metadata": {},
   "outputs": [],
   "source": [
    "def createVocabAndData(sentences):\n",
    "    \n",
    "    tokenizer.fit_on_texts(sentences)\n",
    "    sequences = tokenizer.texts_to_sequences(sentences)\n",
    "    vocab = tokenizer.word_index\n",
    "    data = pad_sequences(sequences, maxlen=MAX_SEQUENCE_LENGTH)\n",
    "    return vocab,data"
   ]
  },
  {
   "cell_type": "code",
   "execution_count": 75,
   "metadata": {},
   "outputs": [],
   "source": [
    "def createEmbeddingMatrix(word_index,embeddings_index):\n",
    "    nb_words = min(MAX_NB_WORDS, len(word_index))\n",
    "    embedding_matrix = np.zeros((nb_words + 1, EMBEDDING_DIM))\n",
    "    for word, i in word_index.items():\n",
    "        if i > MAX_NB_WORDS:\n",
    "            continue\n",
    "        embedding_vector = embeddings_index.get(word)\n",
    "        if embedding_vector is not None:\n",
    "            embedding_matrix[i] = embedding_vector\n",
    "    return embedding_matrix"
   ]
  },
  {
   "cell_type": "code",
   "execution_count": 76,
   "metadata": {},
   "outputs": [],
   "source": [
    "def lstmModel(embedding_matrix,epoch):\n",
    "    model = Sequential()\n",
    "    n, embedding_dims = embedding_matrix.shape\n",
    "\n",
    "    model.add(Embedding(n, embedding_dims, weights=[embedding_matrix], input_length=MAX_SEQUENCE_LENGTH, trainable=False))\n",
    "    model.add(LSTM(128, dropout=0.6, recurrent_dropout=0.6))\n",
    "    model.add(Dense(7))\n",
    "    model.add(Activation('softmax'))\n",
    "\n",
    "    model.compile(loss='categorical_crossentropy', optimizer='adam', metrics=['accuracy'])\n",
    "    print(model.summary())\n",
    "    \n",
    "    model.fit(X_train, y_train, validation_split=VALIDATION_SPLIT, epochs=epoch, batch_size=128)\n",
    "    model.save_weights('text_lstm_weights.h5')\n",
    "\n",
    "    scores= model.evaluate(X_test, y_test, verbose=0)\n",
    "    print(\"%s: %.2f%%\" % (model.metrics_names[1], scores[1] * 100))\n",
    "    return model"
   ]
  },
  {
   "cell_type": "code",
   "execution_count": 99,
   "metadata": {},
   "outputs": [
    {
     "name": "stdout",
     "output_type": "stream",
     "text": [
      "Data created\n",
      "Train Test split\n",
      "_________________________________________________________________\n",
      "Layer (type)                 Output Shape              Param #   \n",
      "=================================================================\n",
      "embedding_2 (Embedding)      (None, 100, 300)          1858200   \n",
      "_________________________________________________________________\n",
      "lstm_2 (LSTM)                (None, 128)               219648    \n",
      "_________________________________________________________________\n",
      "dense_2 (Dense)              (None, 7)                 903       \n",
      "_________________________________________________________________\n",
      "activation_2 (Activation)    (None, 7)                 0         \n",
      "=================================================================\n",
      "Total params: 2,078,751\n",
      "Trainable params: 220,551\n",
      "Non-trainable params: 1,858,200\n",
      "_________________________________________________________________\n",
      "None\n",
      "Train on 5473 samples, validate on 609 samples\n",
      "Epoch 1/40\n",
      "5473/5473 [==============================] - 16s 3ms/step - loss: 1.8755 - acc: 0.2468 - val_loss: 1.7358 - val_acc: 0.3810\n",
      "Epoch 2/40\n",
      "5473/5473 [==============================] - 15s 3ms/step - loss: 1.7027 - acc: 0.3506 - val_loss: 1.5739 - val_acc: 0.4236\n",
      "Epoch 3/40\n",
      "5473/5473 [==============================] - 15s 3ms/step - loss: 1.6114 - acc: 0.3872 - val_loss: 1.4915 - val_acc: 0.4532\n",
      "Epoch 4/40\n",
      "5473/5473 [==============================] - 15s 3ms/step - loss: 1.5551 - acc: 0.4128 - val_loss: 1.4311 - val_acc: 0.4680\n",
      "Epoch 5/40\n",
      "5473/5473 [==============================] - 15s 3ms/step - loss: 1.4973 - acc: 0.4442 - val_loss: 1.4004 - val_acc: 0.4828\n",
      "Epoch 6/40\n",
      "5473/5473 [==============================] - 15s 3ms/step - loss: 1.4788 - acc: 0.4462 - val_loss: 1.3804 - val_acc: 0.4943\n",
      "Epoch 7/40\n",
      "5473/5473 [==============================] - 15s 3ms/step - loss: 1.4388 - acc: 0.4601 - val_loss: 1.3583 - val_acc: 0.4926\n",
      "Epoch 8/40\n",
      "5473/5473 [==============================] - 15s 3ms/step - loss: 1.3981 - acc: 0.4796 - val_loss: 1.3533 - val_acc: 0.5008\n",
      "Epoch 9/40\n",
      "5473/5473 [==============================] - 15s 3ms/step - loss: 1.3972 - acc: 0.4811 - val_loss: 1.3305 - val_acc: 0.5090\n",
      "Epoch 10/40\n",
      "5473/5473 [==============================] - 15s 3ms/step - loss: 1.3509 - acc: 0.5052 - val_loss: 1.3146 - val_acc: 0.5123\n",
      "Epoch 11/40\n",
      "5473/5473 [==============================] - 15s 3ms/step - loss: 1.3234 - acc: 0.5098 - val_loss: 1.3164 - val_acc: 0.5205\n",
      "Epoch 12/40\n",
      "5473/5473 [==============================] - 15s 3ms/step - loss: 1.2945 - acc: 0.5350 - val_loss: 1.2913 - val_acc: 0.5320\n",
      "Epoch 13/40\n",
      "5473/5473 [==============================] - 15s 3ms/step - loss: 1.2755 - acc: 0.5333 - val_loss: 1.2749 - val_acc: 0.5402\n",
      "Epoch 14/40\n",
      "5473/5473 [==============================] - 15s 3ms/step - loss: 1.2431 - acc: 0.5458 - val_loss: 1.2654 - val_acc: 0.5452\n",
      "Epoch 15/40\n",
      "5473/5473 [==============================] - 15s 3ms/step - loss: 1.2207 - acc: 0.5584 - val_loss: 1.2770 - val_acc: 0.5435\n",
      "Epoch 16/40\n",
      "5473/5473 [==============================] - 14s 3ms/step - loss: 1.2038 - acc: 0.5595 - val_loss: 1.2698 - val_acc: 0.5419\n",
      "Epoch 17/40\n",
      "5473/5473 [==============================] - 15s 3ms/step - loss: 1.1768 - acc: 0.5745 - val_loss: 1.2629 - val_acc: 0.5468\n",
      "Epoch 18/40\n",
      "5473/5473 [==============================] - 15s 3ms/step - loss: 1.1619 - acc: 0.5807 - val_loss: 1.2604 - val_acc: 0.5402\n",
      "Epoch 19/40\n",
      "5473/5473 [==============================] - 15s 3ms/step - loss: 1.1314 - acc: 0.5882 - val_loss: 1.2529 - val_acc: 0.5435\n",
      "Epoch 20/40\n",
      "5473/5473 [==============================] - 14s 3ms/step - loss: 1.1220 - acc: 0.5988 - val_loss: 1.2461 - val_acc: 0.5616\n",
      "Epoch 21/40\n",
      "5473/5473 [==============================] - 15s 3ms/step - loss: 1.1054 - acc: 0.6013 - val_loss: 1.2560 - val_acc: 0.5484\n",
      "Epoch 22/40\n",
      "5473/5473 [==============================] - 15s 3ms/step - loss: 1.0891 - acc: 0.6097 - val_loss: 1.2466 - val_acc: 0.5468\n",
      "Epoch 23/40\n",
      "5473/5473 [==============================] - 15s 3ms/step - loss: 1.0690 - acc: 0.6156 - val_loss: 1.2556 - val_acc: 0.5583\n",
      "Epoch 24/40\n",
      "5473/5473 [==============================] - 15s 3ms/step - loss: 1.0497 - acc: 0.6200 - val_loss: 1.2566 - val_acc: 0.5534\n",
      "Epoch 25/40\n",
      "5473/5473 [==============================] - 15s 3ms/step - loss: 1.0327 - acc: 0.6276 - val_loss: 1.2590 - val_acc: 0.5583\n",
      "Epoch 26/40\n",
      "5473/5473 [==============================] - 15s 3ms/step - loss: 1.0268 - acc: 0.6368 - val_loss: 1.2580 - val_acc: 0.5452\n",
      "Epoch 27/40\n",
      "5473/5473 [==============================] - 15s 3ms/step - loss: 1.0040 - acc: 0.6384 - val_loss: 1.2755 - val_acc: 0.5435\n",
      "Epoch 28/40\n",
      "5473/5473 [==============================] - 15s 3ms/step - loss: 0.9938 - acc: 0.6494 - val_loss: 1.2730 - val_acc: 0.5435\n",
      "Epoch 29/40\n",
      "5473/5473 [==============================] - 15s 3ms/step - loss: 0.9914 - acc: 0.6446 - val_loss: 1.2685 - val_acc: 0.5386\n",
      "Epoch 30/40\n",
      "5473/5473 [==============================] - 15s 3ms/step - loss: 0.9756 - acc: 0.6494 - val_loss: 1.2795 - val_acc: 0.5517\n",
      "Epoch 31/40\n",
      "5473/5473 [==============================] - 15s 3ms/step - loss: 0.9517 - acc: 0.6591 - val_loss: 1.2819 - val_acc: 0.5534\n",
      "Epoch 32/40\n",
      "5473/5473 [==============================] - 15s 3ms/step - loss: 0.9383 - acc: 0.6620 - val_loss: 1.2872 - val_acc: 0.5599\n",
      "Epoch 33/40\n",
      "5473/5473 [==============================] - 15s 3ms/step - loss: 0.9313 - acc: 0.6724 - val_loss: 1.2831 - val_acc: 0.5616\n",
      "Epoch 34/40\n",
      "5473/5473 [==============================] - 15s 3ms/step - loss: 0.9111 - acc: 0.6771 - val_loss: 1.2824 - val_acc: 0.5468\n",
      "Epoch 35/40\n",
      "5473/5473 [==============================] - 15s 3ms/step - loss: 0.8959 - acc: 0.6790 - val_loss: 1.3118 - val_acc: 0.5484\n",
      "Epoch 36/40\n",
      "5473/5473 [==============================] - 15s 3ms/step - loss: 0.9049 - acc: 0.6735 - val_loss: 1.3047 - val_acc: 0.5534\n",
      "Epoch 37/40\n",
      "5473/5473 [==============================] - 15s 3ms/step - loss: 0.8645 - acc: 0.6938 - val_loss: 1.3065 - val_acc: 0.5567\n",
      "Epoch 38/40\n",
      "5473/5473 [==============================] - 15s 3ms/step - loss: 0.8578 - acc: 0.6930 - val_loss: 1.3114 - val_acc: 0.5632\n",
      "Epoch 39/40\n",
      "5473/5473 [==============================] - 15s 3ms/step - loss: 0.8595 - acc: 0.6894 - val_loss: 1.3101 - val_acc: 0.5616\n",
      "Epoch 40/40\n",
      "5473/5473 [==============================] - 15s 3ms/step - loss: 0.8408 - acc: 0.7091 - val_loss: 1.3350 - val_acc: 0.5599\n",
      "acc: 59.76%\n"
     ]
    }
   ],
   "source": [
    "if __name__ == \"__main__\":\n",
    "\n",
    "    sentences, labels = loadData('data_prétraitement.csv')\n",
    "    \n",
    "    vocab, data = createVocabAndData(sentences)\n",
    "    embedding_mat = createEmbeddingMatrix(vocab,embeddings)\n",
    "    pickle.dump([data, labels, embedding_mat], open('embedding_matrix.pkl', 'wb'))\n",
    "    print (\"Data created\")\n",
    "\n",
    "    print(\"Train Test split\")\n",
    "    X_train, X_test, y_train, y_test = train_test_split(data, labels, test_size=TEST_SPLIT, random_state=42)\n",
    "\n",
    "    model=lstmModel(embedding_mat,40)"
   ]
  },
  {
   "cell_type": "code",
   "execution_count": 111,
   "metadata": {},
   "outputs": [
    {
     "name": "stdout",
     "output_type": "stream",
     "text": [
      "<keras.engine.sequential.Sequential object at 0x000000C55B486E48>\n"
     ]
    }
   ],
   "source": [
    "# save the model to disk\n",
    "import pickle\n",
    "filename = 'C:/Users/amel/Desktop/PFE/finalized_model_prétraitement.sav'\n",
    "pickle.dump(model, open(filename, 'wb'))\n",
    "# load the model from disk\n",
    "loaded_model = pickle.load(open(filename, 'rb'))\n",
    "print(loaded_model)"
   ]
  },
  {
   "cell_type": "code",
   "execution_count": 112,
   "metadata": {},
   "outputs": [],
   "source": [
    "# save the tokenizer to disk\n",
    "filename = 'C:/Users/amel/Desktop/PFE/tok_prétraitement.sav'\n",
    "pickle.dump(tokenizer, open(filename, 'wb'))\n",
    "# load the model from disk\n",
    "loaded_tok = pickle.load(open(filename, 'rb'))"
   ]
  }
 ],
 "metadata": {
  "kernelspec": {
   "display_name": "Python 3",
   "language": "python",
   "name": "python3"
  },
  "language_info": {
   "codemirror_mode": {
    "name": "ipython",
    "version": 3
   },
   "file_extension": ".py",
   "mimetype": "text/x-python",
   "name": "python",
   "nbconvert_exporter": "python",
   "pygments_lexer": "ipython3",
   "version": "3.6.8"
  }
 },
 "nbformat": 4,
 "nbformat_minor": 2
}
