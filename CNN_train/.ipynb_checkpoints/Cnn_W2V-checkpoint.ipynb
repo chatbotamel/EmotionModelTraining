{
 "cells": [
  {
   "cell_type": "code",
   "execution_count": 1,
   "metadata": {},
   "outputs": [
    {
     "name": "stderr",
     "output_type": "stream",
     "text": [
      "C:\\Users\\amel\\Anaconda3\\lib\\site-packages\\gensim\\utils.py:1197: UserWarning: detected Windows; aliasing chunkize to chunkize_serial\n",
      "  warnings.warn(\"detected Windows; aliasing chunkize to chunkize_serial\")\n",
      "Using TensorFlow backend.\n"
     ]
    }
   ],
   "source": [
    "import os\n",
    "import sys\n",
    "import re\n",
    "import pickle\n",
    "import numpy as np\n",
    "import pandas as pd\n",
    "import gensim\n",
    "\n",
    "import nltk\n",
    "from keras.preprocessing.text import Tokenizer\n",
    "from keras.preprocessing.sequence import pad_sequences\n",
    "from keras.utils.np_utils import to_categorical\n",
    "from keras.models import Sequential\n",
    "from keras.layers import Conv1D,GlobalMaxPooling1D\n",
    "from keras.layers.core import Dense, Activation,Dropout\n",
    "from keras.layers.embeddings import Embedding\n",
    "from sklearn.model_selection import train_test_split"
   ]
  },
  {
   "cell_type": "code",
   "execution_count": 15,
   "metadata": {},
   "outputs": [],
   "source": [
    "np.random.seed(7)"
   ]
  },
  {
   "cell_type": "code",
   "execution_count": 16,
   "metadata": {},
   "outputs": [],
   "source": [
    "DIR_DATA = 'C:/Users/amel/Desktop/PFE/'\n",
    "MAX_SEQUENCE_LENGTH = 100\n",
    "MAX_NB_WORDS = 20000\n",
    "EMBEDDING_DIM = 300\n",
    "TEST_SPLIT = 0.2\n",
    "VALIDATION_SPLIT = 0.1\n",
    "tokenizer = Tokenizer(num_words=MAX_NB_WORDS)"
   ]
  },
  {
   "cell_type": "code",
   "execution_count": 17,
   "metadata": {},
   "outputs": [],
   "source": [
    "def clean_str(string):\n",
    "    string = re.sub(r\"[^A-Za-z0-9(),!?\\'\\`]\", \" \", string)\n",
    "    string = re.sub(r\"\\'s\", \" \\'s\", string)\n",
    "    string = re.sub(r\"\\'ve\", \" \\'ve\", string)\n",
    "    string = re.sub(r\"n\\'t\", \" n\\'t\", string)\n",
    "    string = re.sub(r\"\\'re\", \" \\'re\", string)\n",
    "    string = re.sub(r\"\\'d\", \" \\'d\", string)\n",
    "    string = re.sub(r\"\\'ll\", \" \\'ll\", string)\n",
    "    string = re.sub(r\",\", \" , \", string)\n",
    "    string = re.sub(r\"!\", \" ! \", string)\n",
    "    string = re.sub(r\"\\(\", \" \\( \", string)\n",
    "    string = re.sub(r\"\\)\", \" \\) \", string)\n",
    "    string = re.sub(r\"\\?\", \" \\? \", string)\n",
    "    string = re.sub(r\"\\s{2,}\", \" \", string)\n",
    "    return string.strip().lower()"
   ]
  },
  {
   "cell_type": "code",
   "execution_count": 18,
   "metadata": {},
   "outputs": [
    {
     "name": "stdout",
     "output_type": "stream",
     "text": [
      "\n",
      "Training word2vec...\n",
      "['dai', 'feel', 'close', 'partner', 'friend', 'feel', 'peac', 'also', 'experi', 'close', 'contact', 'peopl', 'regard', 'greatli']\n"
     ]
    },
    {
     "name": "stderr",
     "output_type": "stream",
     "text": [
      "C:\\Users\\amel\\Anaconda3\\lib\\site-packages\\ipykernel_launcher.py:7: DeprecationWarning: Call to deprecated `syn0` (Attribute will be removed in 4.0.0, use self.wv.vectors instead).\n",
      "  import sys\n"
     ]
    }
   ],
   "source": [
    "print('\\nTraining word2vec...')\n",
    "sentences, labels = loadData('data_prétraitement.csv')\n",
    "words =[nltk.word_tokenize(sent) for sent in sentences]\n",
    "print(words[1])\n",
    "word_model = gensim.models.Word2Vec(words, size=100, min_count=1, window=5, iter=100)\n",
    "\n",
    "pretrained_weights = word_model.wv.syn0"
   ]
  },
  {
   "cell_type": "code",
   "execution_count": 19,
   "metadata": {},
   "outputs": [],
   "source": [
    "vocab_size, emdedding_size = pretrained_weights.shape\n"
   ]
  },
  {
   "cell_type": "code",
   "execution_count": 20,
   "metadata": {},
   "outputs": [
    {
     "name": "stdout",
     "output_type": "stream",
     "text": [
      "Result embedding shape: (6184, 100)\n"
     ]
    }
   ],
   "source": [
    "print('Result embedding shape:', pretrained_weights.shape)"
   ]
  },
  {
   "cell_type": "code",
   "execution_count": 21,
   "metadata": {},
   "outputs": [],
   "source": [
    "def loadData(filename):\n",
    "    df = pd.read_csv(DIR_DATA + filename,delimiter=';')\n",
    "    selected = ['label', 'text']\n",
    "    non_selected = list(set(df.columns) - set(selected))\n",
    "    df = df.drop(non_selected, axis=1)\n",
    "    df = df.dropna(axis=0, how='any', subset=selected)\n",
    "    labels = sorted(list(set(df[selected[0]].tolist())))\n",
    "    dict.fromkeys(set(df[selected[0]].tolist()))\n",
    "    label_dict = {}\n",
    "    for i in range(len(labels)):\n",
    "        label_dict[labels[i]] = i\n",
    "\n",
    "    x_train = df[selected[1]].apply(lambda x: clean_str(x)).tolist()\n",
    "    y_train = df[selected[0]].apply(lambda y: label_dict[y]).tolist()\n",
    "    y_train = to_categorical(np.asarray(y_train))\n",
    "    return x_train,y_train"
   ]
  },
  {
   "cell_type": "code",
   "execution_count": 22,
   "metadata": {},
   "outputs": [],
   "source": [
    "def createVocabAndData(sentences):\n",
    "    \n",
    "    tokenizer.fit_on_texts(sentences)\n",
    "    sequences = tokenizer.texts_to_sequences(sentences)\n",
    "    vocab = tokenizer.word_index\n",
    "    data = pad_sequences(sequences, maxlen=MAX_SEQUENCE_LENGTH)\n",
    "    return vocab,data"
   ]
  },
  {
   "cell_type": "code",
   "execution_count": 23,
   "metadata": {},
   "outputs": [],
   "source": [
    "def cnnModel(pretrained_weights,epoch):\n",
    "    model = Sequential()\n",
    "    n, embedding_dims = pretrained_weights.shape\n",
    "    model.add(Embedding(n, embedding_dims, weights=[pretrained_weights], input_length=MAX_SEQUENCE_LENGTH, trainable=False))\n",
    "    model.add(Dropout(0.2))\n",
    "    model.add(Conv1D(128,3,padding='valid',strides=1))\n",
    "    model.add(GlobalMaxPooling1D())\n",
    "    #model.add(Embedding(n, embedding_dims, weights=[pretrained_weights], input_length=MAX_SEQUENCE_LENGTH, trainable=False))\n",
    "    #model.add(LSTM(128, dropout=0.6, recurrent_dropout=0.6))\n",
    "    model.add(Dense(7))\n",
    "    model.add(Activation('softmax'))\n",
    "\n",
    "    model.compile(loss='categorical_crossentropy', optimizer='adam', metrics=['accuracy'])\n",
    "    print(model.summary())\n",
    "    \n",
    "    model.fit(X_train, y_train, validation_split=VALIDATION_SPLIT, epochs=epoch, batch_size=128)\n",
    "    model.save_weights('text_lstm_weights.h5')\n",
    "\n",
    "    scores= model.evaluate(X_test, y_test, verbose=0)\n",
    "    print(\"%s: %.2f%%\" % (model.metrics_names[1], scores[1] * 100))\n",
    "    return model\n"
   ]
  },
  {
   "cell_type": "code",
   "execution_count": 24,
   "metadata": {},
   "outputs": [
    {
     "name": "stdout",
     "output_type": "stream",
     "text": [
      "Data created\n",
      "Train Test split\n",
      "_________________________________________________________________\n",
      "Layer (type)                 Output Shape              Param #   \n",
      "=================================================================\n",
      "embedding_2 (Embedding)      (None, 100, 100)          618400    \n",
      "_________________________________________________________________\n",
      "dropout_2 (Dropout)          (None, 100, 100)          0         \n",
      "_________________________________________________________________\n",
      "conv1d_2 (Conv1D)            (None, 98, 128)           38528     \n",
      "_________________________________________________________________\n",
      "global_max_pooling1d_2 (Glob (None, 128)               0         \n",
      "_________________________________________________________________\n",
      "dense_2 (Dense)              (None, 7)                 903       \n",
      "_________________________________________________________________\n",
      "activation_2 (Activation)    (None, 7)                 0         \n",
      "=================================================================\n",
      "Total params: 657,831\n",
      "Trainable params: 39,431\n",
      "Non-trainable params: 618,400\n",
      "_________________________________________________________________\n",
      "None\n",
      "Train on 5461 samples, validate on 607 samples\n",
      "Epoch 1/40\n",
      "5461/5461 [==============================] - 2s 309us/step - loss: 2.3784 - acc: 0.2034 - val_loss: 1.8044 - val_acc: 0.3114\n",
      "Epoch 2/40\n",
      "5461/5461 [==============================] - 1s 236us/step - loss: 1.6912 - acc: 0.3737 - val_loss: 1.6071 - val_acc: 0.4119\n",
      "Epoch 3/40\n",
      "5461/5461 [==============================] - 1s 237us/step - loss: 1.4844 - acc: 0.4507 - val_loss: 1.5488 - val_acc: 0.4399\n",
      "Epoch 4/40\n",
      "5461/5461 [==============================] - 1s 248us/step - loss: 1.3633 - acc: 0.4999 - val_loss: 1.5300 - val_acc: 0.4267\n",
      "Epoch 5/40\n",
      "5461/5461 [==============================] - 3s 462us/step - loss: 1.2774 - acc: 0.5407 - val_loss: 1.5160 - val_acc: 0.4761\n",
      "Epoch 6/40\n",
      "5461/5461 [==============================] - 2s 442us/step - loss: 1.1866 - acc: 0.5735 - val_loss: 1.4958 - val_acc: 0.4827\n",
      "Epoch 7/40\n",
      "5461/5461 [==============================] - 2s 399us/step - loss: 1.1171 - acc: 0.6065 - val_loss: 1.4835 - val_acc: 0.4860\n",
      "Epoch 8/40\n",
      "5461/5461 [==============================] - 1s 236us/step - loss: 1.0467 - acc: 0.6299 - val_loss: 1.4908 - val_acc: 0.4778\n",
      "Epoch 9/40\n",
      "5461/5461 [==============================] - 1s 236us/step - loss: 1.0028 - acc: 0.6426 - val_loss: 1.4893 - val_acc: 0.4794\n",
      "Epoch 10/40\n",
      "5461/5461 [==============================] - 1s 238us/step - loss: 0.9658 - acc: 0.6605 - val_loss: 1.4990 - val_acc: 0.4662\n",
      "Epoch 11/40\n",
      "5461/5461 [==============================] - 1s 237us/step - loss: 0.9213 - acc: 0.6794 - val_loss: 1.5066 - val_acc: 0.4843\n",
      "Epoch 12/40\n",
      "5461/5461 [==============================] - 2s 369us/step - loss: 0.8717 - acc: 0.7063 - val_loss: 1.5267 - val_acc: 0.4843\n",
      "Epoch 13/40\n",
      "5461/5461 [==============================] - 2s 445us/step - loss: 0.8355 - acc: 0.7116 - val_loss: 1.5365 - val_acc: 0.4679\n",
      "Epoch 14/40\n",
      "5461/5461 [==============================] - 2s 437us/step - loss: 0.7952 - acc: 0.7273 - val_loss: 1.5375 - val_acc: 0.4728\n",
      "Epoch 15/40\n",
      "5461/5461 [==============================] - 2s 290us/step - loss: 0.7555 - acc: 0.7416 - val_loss: 1.5654 - val_acc: 0.4695\n",
      "Epoch 16/40\n",
      "5461/5461 [==============================] - 1s 236us/step - loss: 0.7299 - acc: 0.7572 - val_loss: 1.5805 - val_acc: 0.4745\n",
      "Epoch 17/40\n",
      "5461/5461 [==============================] - 1s 236us/step - loss: 0.7034 - acc: 0.7660 - val_loss: 1.5744 - val_acc: 0.4811\n",
      "Epoch 18/40\n",
      "5461/5461 [==============================] - 2s 409us/step - loss: 0.6759 - acc: 0.7717 - val_loss: 1.5832 - val_acc: 0.4761\n",
      "Epoch 19/40\n",
      "5461/5461 [==============================] - 3s 496us/step - loss: 0.6455 - acc: 0.7854 - val_loss: 1.6137 - val_acc: 0.4745\n",
      "Epoch 20/40\n",
      "5461/5461 [==============================] - 3s 475us/step - loss: 0.6185 - acc: 0.8057 - val_loss: 1.6270 - val_acc: 0.4745\n",
      "Epoch 21/40\n",
      "5461/5461 [==============================] - 1s 237us/step - loss: 0.5981 - acc: 0.8063 - val_loss: 1.6624 - val_acc: 0.4514\n",
      "Epoch 22/40\n",
      "5461/5461 [==============================] - 1s 236us/step - loss: 0.5815 - acc: 0.8090 - val_loss: 1.6736 - val_acc: 0.4662\n",
      "Epoch 23/40\n",
      "5461/5461 [==============================] - 2s 392us/step - loss: 0.5435 - acc: 0.8266 - val_loss: 1.6832 - val_acc: 0.4778\n",
      "Epoch 24/40\n",
      "5461/5461 [==============================] - ETA: 0s - loss: 0.5441 - acc: 0.824 - 2s 429us/step - loss: 0.5442 - acc: 0.8246 - val_loss: 1.7251 - val_acc: 0.4547\n",
      "Epoch 25/40\n",
      "5461/5461 [==============================] - 2s 429us/step - loss: 0.5136 - acc: 0.8365 - val_loss: 1.7239 - val_acc: 0.4761\n",
      "Epoch 26/40\n",
      "5461/5461 [==============================] - 1s 272us/step - loss: 0.4917 - acc: 0.8500 - val_loss: 1.7458 - val_acc: 0.4695\n",
      "Epoch 27/40\n",
      "5461/5461 [==============================] - 1s 238us/step - loss: 0.4716 - acc: 0.8568 - val_loss: 1.7438 - val_acc: 0.4778\n",
      "Epoch 28/40\n",
      "5461/5461 [==============================] - 2s 333us/step - loss: 0.4704 - acc: 0.8526 - val_loss: 1.7789 - val_acc: 0.4679\n",
      "Epoch 29/40\n",
      "5461/5461 [==============================] - 2s 435us/step - loss: 0.4609 - acc: 0.8586 - val_loss: 1.7861 - val_acc: 0.4679\n",
      "Epoch 30/40\n",
      "5461/5461 [==============================] - 2s 449us/step - loss: 0.4262 - acc: 0.8628 - val_loss: 1.8122 - val_acc: 0.4646\n",
      "Epoch 31/40\n",
      "5461/5461 [==============================] - 2s 318us/step - loss: 0.4304 - acc: 0.8606 - val_loss: 1.8522 - val_acc: 0.4794\n",
      "Epoch 32/40\n",
      "5461/5461 [==============================] - 1s 236us/step - loss: 0.4088 - acc: 0.8729 - val_loss: 1.8904 - val_acc: 0.4563\n",
      "Epoch 33/40\n",
      "5461/5461 [==============================] - 2s 294us/step - loss: 0.4052 - acc: 0.8698 - val_loss: 1.8531 - val_acc: 0.4794\n",
      "Epoch 34/40\n",
      "5461/5461 [==============================] - 2s 425us/step - loss: 0.3914 - acc: 0.8769 - val_loss: 1.8680 - val_acc: 0.4679\n",
      "Epoch 35/40\n",
      "5461/5461 [==============================] - 2s 444us/step - loss: 0.3759 - acc: 0.8823 - val_loss: 1.8972 - val_acc: 0.4646\n",
      "Epoch 36/40\n",
      "5461/5461 [==============================] - 2s 375us/step - loss: 0.3685 - acc: 0.8850 - val_loss: 1.9092 - val_acc: 0.4712\n",
      "Epoch 37/40\n",
      "5461/5461 [==============================] - 1s 236us/step - loss: 0.3514 - acc: 0.8945 - val_loss: 1.9467 - val_acc: 0.4646\n",
      "Epoch 38/40\n",
      "5461/5461 [==============================] - 1s 260us/step - loss: 0.3593 - acc: 0.8859 - val_loss: 1.9560 - val_acc: 0.4563\n",
      "Epoch 39/40\n",
      "5461/5461 [==============================] - 2s 439us/step - loss: 0.3556 - acc: 0.8877 - val_loss: 1.9817 - val_acc: 0.4596\n",
      "Epoch 40/40\n",
      "5461/5461 [==============================] - 2s 450us/step - loss: 0.3292 - acc: 0.8973 - val_loss: 1.9911 - val_acc: 0.4646\n",
      "acc: 52.24%\n"
     ]
    }
   ],
   "source": [
    "if __name__ == \"__main__\":\n",
    "\n",
    "    #sentences, labels = loadData('data_prétraitement.csv')\n",
    "    \n",
    "    vocab, data = createVocabAndData(sentences)\n",
    "    print (\"Data created\")\n",
    "    print(\"Train Test split\")\n",
    "    X_train, X_test, y_train, y_test = train_test_split(data, labels, test_size=TEST_SPLIT, random_state=42)\n",
    "    model=cnnModel(pretrained_weights,40)"
   ]
  }
 ],
 "metadata": {
  "kernelspec": {
   "display_name": "Python 3",
   "language": "python",
   "name": "python3"
  },
  "language_info": {
   "codemirror_mode": {
    "name": "ipython",
    "version": 3
   },
   "file_extension": ".py",
   "mimetype": "text/x-python",
   "name": "python",
   "nbconvert_exporter": "python",
   "pygments_lexer": "ipython3",
   "version": "3.6.8"
  }
 },
 "nbformat": 4,
 "nbformat_minor": 2
}
